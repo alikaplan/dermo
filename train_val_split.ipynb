{
 "cells": [
  {
   "cell_type": "code",
   "execution_count": 3,
   "metadata": {},
   "outputs": [],
   "source": [
    "import os\n",
    "import shutil\n",
    "import glob as glob"
   ]
  },
  {
   "cell_type": "code",
   "execution_count": 4,
   "metadata": {},
   "outputs": [
    {
     "data": {
      "text/plain": [
       "['.ipynb_checkpoints',\n",
       " 'Benign',\n",
       " 'Competion-Multi-Diagnose',\n",
       " 'ISIC-images (1).zip',\n",
       " 'ISIC-images.zip',\n",
       " 'Malignant',\n",
       " 'test',\n",
       " 'train',\n",
       " 'train_val_split.ipynb',\n",
       " 'valid']"
      ]
     },
     "execution_count": 4,
     "metadata": {},
     "output_type": "execute_result"
    }
   ],
   "source": [
    "os.listdir()"
   ]
  },
  {
   "cell_type": "code",
   "execution_count": 11,
   "metadata": {},
   "outputs": [],
   "source": [
    "benign_list = os.listdir('Benign/')\n",
    "malignant_list = os.listdir('Malignant')"
   ]
  },
  {
   "cell_type": "code",
   "execution_count": 13,
   "metadata": {},
   "outputs": [
    {
     "data": {
      "text/plain": [
       "['ISIC_0000002.jpg',\n",
       " 'ISIC_0000004.jpg',\n",
       " 'ISIC_0000013.jpg',\n",
       " 'ISIC_0000022.jpg',\n",
       " 'ISIC_0000026.jpg',\n",
       " 'ISIC_0000029.jpg',\n",
       " 'ISIC_0000030.jpg',\n",
       " 'ISIC_0000031.jpg',\n",
       " 'ISIC_0000035.jpg',\n",
       " 'ISIC_0000036.jpg']"
      ]
     },
     "execution_count": 13,
     "metadata": {},
     "output_type": "execute_result"
    }
   ],
   "source": [
    "benign_list[:10]\n",
    "malignant_list[:10]"
   ]
  },
  {
   "cell_type": "code",
   "execution_count": 14,
   "metadata": {},
   "outputs": [
    {
     "name": "stdout",
     "output_type": "stream",
     "text": [
      "19373\n",
      "2301\n"
     ]
    }
   ],
   "source": [
    "print(len(benign_list))\n",
    "print(len(malignant_list))"
   ]
  },
  {
   "cell_type": "code",
   "execution_count": 15,
   "metadata": {},
   "outputs": [],
   "source": [
    "from random import shuffle\n",
    "\n",
    "shuffle(benign_list)\n",
    "shuffle(malignant_list)"
   ]
  },
  {
   "cell_type": "code",
   "execution_count": 16,
   "metadata": {},
   "outputs": [
    {
     "name": "stdout",
     "output_type": "stream",
     "text": [
      "['ISIC_0006944.jpg', 'ISIC_0002298.jpg', 'ISIC_0025375.jpg', 'ISIC_0001059.jpg', 'ISIC_0001896.jpg', 'ISIC_0002311.jpg', 'ISIC_0026427.jpg', 'ISIC_0005695.jpg', 'ISIC_0027217.jpg', 'ISIC_0012823.jpg']\n",
      "['ISIC_0013501.jpg', 'ISIC_0028051.jpg', 'ISIC_0000155.jpg', 'ISIC_0012425.jpg', 'ISIC_0034101.jpg', 'ISIC_0011493.jpg', 'ISIC_0031795.jpg', 'ISIC_0033274.jpg', 'ISIC_0014912.jpg', 'ISIC_0010415.jpg']\n"
     ]
    }
   ],
   "source": [
    "print(benign_list[:10])\n",
    "print(malignant_list[:10])"
   ]
  },
  {
   "cell_type": "code",
   "execution_count": 23,
   "metadata": {},
   "outputs": [
    {
     "data": {
      "text/plain": [
       "['Benign/ISIC_0006944.jpg',\n",
       " 'Benign/ISIC_0002298.jpg',\n",
       " 'Benign/ISIC_0025375.jpg',\n",
       " 'Benign/ISIC_0001059.jpg',\n",
       " 'Benign/ISIC_0001896.jpg',\n",
       " 'Benign/ISIC_0002311.jpg',\n",
       " 'Benign/ISIC_0026427.jpg',\n",
       " 'Benign/ISIC_0005695.jpg',\n",
       " 'Benign/ISIC_0027217.jpg',\n",
       " 'Benign/ISIC_0012823.jpg']"
      ]
     },
     "execution_count": 23,
     "metadata": {},
     "output_type": "execute_result"
    }
   ],
   "source": [
    "benign = ['Benign/'+b for b in benign_list]\n",
    "\n",
    "benign[:10]"
   ]
  },
  {
   "cell_type": "code",
   "execution_count": 24,
   "metadata": {},
   "outputs": [
    {
     "data": {
      "text/plain": [
       "['Malignant/ISIC_0013501.jpg',\n",
       " 'Malignant/ISIC_0028051.jpg',\n",
       " 'Malignant/ISIC_0000155.jpg',\n",
       " 'Malignant/ISIC_0012425.jpg',\n",
       " 'Malignant/ISIC_0034101.jpg',\n",
       " 'Malignant/ISIC_0011493.jpg',\n",
       " 'Malignant/ISIC_0031795.jpg',\n",
       " 'Malignant/ISIC_0033274.jpg',\n",
       " 'Malignant/ISIC_0014912.jpg',\n",
       " 'Malignant/ISIC_0010415.jpg']"
      ]
     },
     "execution_count": 24,
     "metadata": {},
     "output_type": "execute_result"
    }
   ],
   "source": [
    "malignant = ['Malignant/'+m for m in malignant_list]\n",
    "\n",
    "malignant[:10]"
   ]
  },
  {
   "cell_type": "code",
   "execution_count": 29,
   "metadata": {},
   "outputs": [],
   "source": [
    "def copy_file(file_list, dest):\n",
    "    \n",
    "    for file in file_list:\n",
    "        print('Moving '+str(file) + ' to ' + dest)\n",
    "        shutil.move(file, dest)\n",
    "    print('Finished moving')\n",
    "    "
   ]
  },
  {
   "cell_type": "code",
   "execution_count": 36,
   "metadata": {},
   "outputs": [
    {
     "name": "stdout",
     "output_type": "stream",
     "text": [
      "Moving Malignant/ISIC_0024679.jpg to test/malignant/\n",
      "Moving Malignant/ISIC_0014092.jpg to test/malignant/\n",
      "Moving Malignant/ISIC_0033573.jpg to test/malignant/\n",
      "Moving Malignant/ISIC_0034022.jpg to test/malignant/\n",
      "Moving Malignant/ISIC_0025105.jpg to test/malignant/\n",
      "Moving Malignant/ISIC_0011481.jpg to test/malignant/\n",
      "Moving Malignant/ISIC_0029017.jpg to test/malignant/\n",
      "Moving Malignant/ISIC_0032604.jpg to test/malignant/\n",
      "Moving Malignant/ISIC_0011209.jpg to test/malignant/\n",
      "Moving Malignant/ISIC_0031957.jpg to test/malignant/\n",
      "Moving Malignant/ISIC_0032433.jpg to test/malignant/\n",
      "Moving Malignant/ISIC_0011340.jpg to test/malignant/\n",
      "Moving Malignant/ISIC_0000170.jpg to test/malignant/\n",
      "Moving Malignant/ISIC_0010655.jpg to test/malignant/\n",
      "Moving Malignant/ISIC_0032626.jpg to test/malignant/\n",
      "Moving Malignant/ISIC_0033320.jpg to test/malignant/\n",
      "Moving Malignant/ISIC_0032110.jpg to test/malignant/\n",
      "Moving Malignant/ISIC_0015133.jpg to test/malignant/\n",
      "Moving Malignant/ISIC_0000547.jpg to test/malignant/\n",
      "Moving Malignant/ISIC_0014788.jpg to test/malignant/\n",
      "Moving Malignant/ISIC_0024304.jpg to test/malignant/\n",
      "Moving Malignant/ISIC_0028897.jpg to test/malignant/\n",
      "Moving Malignant/ISIC_0015200.jpg to test/malignant/\n",
      "Moving Malignant/ISIC_0031741.jpg to test/malignant/\n",
      "Moving Malignant/ISIC_0011508.jpg to test/malignant/\n",
      "Moving Malignant/ISIC_0010495.jpg to test/malignant/\n",
      "Moving Malignant/ISIC_0033956.jpg to test/malignant/\n",
      "Moving Malignant/ISIC_0034059.jpg to test/malignant/\n",
      "Moving Malignant/ISIC_0027502.jpg to test/malignant/\n",
      "Moving Malignant/ISIC_0014163.jpg to test/malignant/\n",
      "Moving Malignant/ISIC_0032869.jpg to test/malignant/\n",
      "Moving Malignant/ISIC_0011957.jpg to test/malignant/\n",
      "Moving Malignant/ISIC_0011503.jpg to test/malignant/\n",
      "Moving Malignant/ISIC_0027900.jpg to test/malignant/\n",
      "Moving Malignant/ISIC_0015132.jpg to test/malignant/\n",
      "Moving Malignant/ISIC_0015190.jpg to test/malignant/\n",
      "Moving Malignant/ISIC_0000303.jpg to test/malignant/\n",
      "Moving Malignant/ISIC_0032396.jpg to test/malignant/\n",
      "Moving Malignant/ISIC_0015142.jpg to test/malignant/\n",
      "Moving Malignant/ISIC_0030756.jpg to test/malignant/\n",
      "Moving Malignant/ISIC_0034134.jpg to test/malignant/\n",
      "Moving Malignant/ISIC_0032592.jpg to test/malignant/\n",
      "Moving Malignant/ISIC_0014476.jpg to test/malignant/\n",
      "Moving Malignant/ISIC_0009882.jpg to test/malignant/\n",
      "Moving Malignant/ISIC_0029319.jpg to test/malignant/\n",
      "Moving Malignant/ISIC_0014219.jpg to test/malignant/\n",
      "Moving Malignant/ISIC_0031545.jpg to test/malignant/\n",
      "Moving Malignant/ISIC_0033029.jpg to test/malignant/\n",
      "Moving Malignant/ISIC_0028022.jpg to test/malignant/\n",
      "Moving Malignant/ISIC_0001112.jpg to test/malignant/\n",
      "Moving Malignant/ISIC_0014325.jpg to test/malignant/\n",
      "Moving Malignant/ISIC_0011490.jpg to test/malignant/\n",
      "Moving Malignant/ISIC_0027487.jpg to test/malignant/\n",
      "Moving Malignant/ISIC_0011460.jpg to test/malignant/\n",
      "Moving Malignant/ISIC_0011141.jpg to test/malignant/\n",
      "Moving Malignant/ISIC_0011594.jpg to test/malignant/\n",
      "Moving Malignant/ISIC_0032079.jpg to test/malignant/\n",
      "Moving Malignant/ISIC_0010217.jpg to test/malignant/\n",
      "Moving Malignant/ISIC_0032984.jpg to test/malignant/\n",
      "Moving Malignant/ISIC_0011863.jpg to test/malignant/\n",
      "Moving Malignant/ISIC_0011628.jpg to test/malignant/\n",
      "Moving Malignant/ISIC_0009913.jpg to test/malignant/\n",
      "Moving Malignant/ISIC_0014891.jpg to test/malignant/\n",
      "Moving Malignant/ISIC_0028465.jpg to test/malignant/\n",
      "Moving Malignant/ISIC_0014369.jpg to test/malignant/\n",
      "Moving Malignant/ISIC_0010866.jpg to test/malignant/\n",
      "Moving Malignant/ISIC_0000281.jpg to test/malignant/\n",
      "Moving Malignant/ISIC_0011112.jpg to test/malignant/\n",
      "Moving Malignant/ISIC_0011526.jpg to test/malignant/\n",
      "Moving Malignant/ISIC_0010402.jpg to test/malignant/\n",
      "Moving Malignant/ISIC_0033569.jpg to test/malignant/\n",
      "Moving Malignant/ISIC_0025391.jpg to test/malignant/\n",
      "Moving Malignant/ISIC_0033522.jpg to test/malignant/\n",
      "Moving Malignant/ISIC_0033578.jpg to test/malignant/\n",
      "Moving Malignant/ISIC_0028288.jpg to test/malignant/\n",
      "Moving Malignant/ISIC_0028685.jpg to test/malignant/\n",
      "Moving Malignant/ISIC_0024219.jpg to test/malignant/\n",
      "Moving Malignant/ISIC_0010995.jpg to test/malignant/\n",
      "Moving Malignant/ISIC_0032265.jpg to test/malignant/\n",
      "Moving Malignant/ISIC_0026802.jpg to test/malignant/\n",
      "Moving Malignant/ISIC_0030277.jpg to test/malignant/\n",
      "Moving Malignant/ISIC_0010322.jpg to test/malignant/\n",
      "Moving Malignant/ISIC_0025732.jpg to test/malignant/\n",
      "Moving Malignant/ISIC_0011428.jpg to test/malignant/\n",
      "Moving Malignant/ISIC_0024967.jpg to test/malignant/\n",
      "Moving Malignant/ISIC_0029241.jpg to test/malignant/\n",
      "Moving Malignant/ISIC_0026089.jpg to test/malignant/\n",
      "Moving Malignant/ISIC_0028126.jpg to test/malignant/\n",
      "Moving Malignant/ISIC_0000520.jpg to test/malignant/\n",
      "Moving Malignant/ISIC_0015004.jpg to test/malignant/\n",
      "Moving Malignant/ISIC_0028219.jpg to test/malignant/\n",
      "Moving Malignant/ISIC_0010783.jpg to test/malignant/\n",
      "Moving Malignant/ISIC_0033624.jpg to test/malignant/\n",
      "Moving Malignant/ISIC_0033981.jpg to test/malignant/\n",
      "Moving Malignant/ISIC_0033394.jpg to test/malignant/\n",
      "Moving Malignant/ISIC_0009905.jpg to test/malignant/\n",
      "Moving Malignant/ISIC_0013530.jpg to test/malignant/\n",
      "Moving Malignant/ISIC_0031339.jpg to test/malignant/\n",
      "Moving Malignant/ISIC_0011305.jpg to test/malignant/\n",
      "Moving Malignant/ISIC_0013141.jpg to test/malignant/\n",
      "Moving Malignant/ISIC_0031784.jpg to test/malignant/\n",
      "Moving Malignant/ISIC_0009924.jpg to test/malignant/\n",
      "Moving Malignant/ISIC_0033773.jpg to test/malignant/\n",
      "Moving Malignant/ISIC_0010231.jpg to test/malignant/\n",
      "Moving Malignant/ISIC_0014061.jpg to test/malignant/\n",
      "Moving Malignant/ISIC_0010765.jpg to test/malignant/\n",
      "Moving Malignant/ISIC_0013814.jpg to test/malignant/\n",
      "Moving Malignant/ISIC_0000393.jpg to test/malignant/\n",
      "Moving Malignant/ISIC_0011528.jpg to test/malignant/\n",
      "Moving Malignant/ISIC_0010398.jpg to test/malignant/\n",
      "Moving Malignant/ISIC_0033679.jpg to test/malignant/\n",
      "Moving Malignant/ISIC_0026976.jpg to test/malignant/\n",
      "Moving Malignant/ISIC_0030843.jpg to test/malignant/\n",
      "Moving Malignant/ISIC_0031494.jpg to test/malignant/\n",
      "Moving Malignant/ISIC_0032845.jpg to test/malignant/\n",
      "Moving Malignant/ISIC_0030089.jpg to test/malignant/\n",
      "Moving Malignant/ISIC_0000432.jpg to test/malignant/\n",
      "Moving Malignant/ISIC_0011695.jpg to test/malignant/\n",
      "Moving Malignant/ISIC_0000163.jpg to test/malignant/\n",
      "Moving Malignant/ISIC_0030106.jpg to test/malignant/\n",
      "Moving Malignant/ISIC_0010027.jpg to test/malignant/\n",
      "Moving Malignant/ISIC_0000487.jpg to test/malignant/\n",
      "Moving Malignant/ISIC_0033023.jpg to test/malignant/\n",
      "Moving Malignant/ISIC_0011868.jpg to test/malignant/\n",
      "Moving Malignant/ISIC_0031941.jpg to test/malignant/\n",
      "Moving Malignant/ISIC_0012512.jpg to test/malignant/\n",
      "Moving Malignant/ISIC_0026746.jpg to test/malignant/\n",
      "Moving Malignant/ISIC_0028489.jpg to test/malignant/\n",
      "Moving Malignant/ISIC_0000171.jpg to test/malignant/\n",
      "Moving Malignant/ISIC_0029744.jpg to test/malignant/\n",
      "Moving Malignant/ISIC_0032975.jpg to test/malignant/\n",
      "Moving Malignant/ISIC_0028901.jpg to test/malignant/\n",
      "Moving Malignant/ISIC_0010767.jpg to test/malignant/\n",
      "Moving Malignant/ISIC_0026045.jpg to test/malignant/\n",
      "Moving Malignant/ISIC_0027436.jpg to test/malignant/\n",
      "Moving Malignant/ISIC_0011872.jpg to test/malignant/\n",
      "Moving Malignant/ISIC_0010663.jpg to test/malignant/\n",
      "Moving Malignant/ISIC_0025316.jpg to test/malignant/\n",
      "Moving Malignant/ISIC_0010379.jpg to test/malignant/\n",
      "Moving Malignant/ISIC_0014513.jpg to test/malignant/\n",
      "Moving Malignant/ISIC_0024263.jpg to test/malignant/\n",
      "Moving Malignant/ISIC_0033893.jpg to test/malignant/\n",
      "Moving Malignant/ISIC_0033323.jpg to test/malignant/\n",
      "Moving Malignant/ISIC_0000054.jpg to test/malignant/\n",
      "Moving Malignant/ISIC_0000276.jpg to test/malignant/\n",
      "Moving Malignant/ISIC_0010119.jpg to test/malignant/\n",
      "Moving Malignant/ISIC_0011950.jpg to test/malignant/\n",
      "Moving Malignant/ISIC_0009916.jpg to test/malignant/\n",
      "Moving Malignant/ISIC_0001138.jpg to test/malignant/\n",
      "Moving Malignant/ISIC_0030192.jpg to test/malignant/\n",
      "Moving Malignant/ISIC_0010396.jpg to test/malignant/\n",
      "Moving Malignant/ISIC_0028361.jpg to test/malignant/\n",
      "Moving Malignant/ISIC_0013676.jpg to test/malignant/\n",
      "Moving Malignant/ISIC_0014129.jpg to test/malignant/\n",
      "Moving Malignant/ISIC_0024246.jpg to test/malignant/\n",
      "Moving Malignant/ISIC_0014233.jpg to test/malignant/\n",
      "Moving Malignant/ISIC_0032662.jpg to test/malignant/\n",
      "Moving Malignant/ISIC_0000459.jpg to test/malignant/\n",
      "Moving Malignant/ISIC_0033651.jpg to test/malignant/\n",
      "Moving Malignant/ISIC_0014290.jpg to test/malignant/\n",
      "Moving Malignant/ISIC_0011458.jpg to test/malignant/\n",
      "Moving Malignant/ISIC_0011703.jpg to test/malignant/\n",
      "Moving Malignant/ISIC_0032331.jpg to test/malignant/\n",
      "Moving Malignant/ISIC_0000390.jpg to test/malignant/\n",
      "Moving Malignant/ISIC_0009955.jpg to test/malignant/\n",
      "Moving Malignant/ISIC_0000502.jpg to test/malignant/\n",
      "Moving Malignant/ISIC_0030623.jpg to test/malignant/\n",
      "Moving Malignant/ISIC_0033337.jpg to test/malignant/\n",
      "Moving Malignant/ISIC_0024853.jpg to test/malignant/\n",
      "Moving Malignant/ISIC_0011031.jpg to test/malignant/\n",
      "Moving Malignant/ISIC_0032810.jpg to test/malignant/\n",
      "Moving Malignant/ISIC_0024256.jpg to test/malignant/\n",
      "Moving Malignant/ISIC_0000516.jpg to test/malignant/\n",
      "Moving Malignant/ISIC_0000004.jpg to test/malignant/\n",
      "Moving Malignant/ISIC_0010923.jpg to test/malignant/\n",
      "Moving Malignant/ISIC_0012989.jpg to test/malignant/\n",
      "Moving Malignant/ISIC_0010156.jpg to test/malignant/\n",
      "Moving Malignant/ISIC_0011808.jpg to test/malignant/\n",
      "Moving Malignant/ISIC_0000549.jpg to test/malignant/\n",
      "Moving Malignant/ISIC_0032790.jpg to test/malignant/\n",
      "Moving Malignant/ISIC_0011877.jpg to test/malignant/\n",
      "Moving Malignant/ISIC_0032287.jpg to test/malignant/\n",
      "Moving Malignant/ISIC_0029780.jpg to test/malignant/\n",
      "Moving Malignant/ISIC_0027033.jpg to test/malignant/\n",
      "Moving Malignant/ISIC_0010246.jpg to test/malignant/\n",
      "Moving Malignant/ISIC_0025766.jpg to test/malignant/\n",
      "Moving Malignant/ISIC_0013636.jpg to test/malignant/\n",
      "Moving Malignant/ISIC_0025081.jpg to test/malignant/\n",
      "Moving Malignant/ISIC_0033068.jpg to test/malignant/\n",
      "Moving Malignant/ISIC_0024940.jpg to test/malignant/\n",
      "Moving Malignant/ISIC_0033655.jpg to test/malignant/\n",
      "Moving Malignant/ISIC_0011774.jpg to test/malignant/\n",
      "Moving Malignant/ISIC_0011799.jpg to test/malignant/\n",
      "Moving Malignant/ISIC_0028215.jpg to test/malignant/\n",
      "Moving Malignant/ISIC_0033872.jpg to test/malignant/\n",
      "Moving Malignant/ISIC_0001116.jpg to test/malignant/\n",
      "Moving Malignant/ISIC_0024864.jpg to test/malignant/\n",
      "Moving Malignant/ISIC_0030760.jpg to test/malignant/\n",
      "Moving Malignant/ISIC_0032070.jpg to test/malignant/\n",
      "Moving Malignant/ISIC_0010392.jpg to test/malignant/\n",
      "Moving Malignant/ISIC_0013651.jpg to test/malignant/\n",
      "Moving Malignant/ISIC_0028228.jpg to test/malignant/\n",
      "Moving Malignant/ISIC_0000462.jpg to test/malignant/\n",
      "Moving Malignant/ISIC_0030910.jpg to test/malignant/\n",
      "Moving Malignant/ISIC_0013359.jpg to test/malignant/\n",
      "Moving Malignant/ISIC_0027742.jpg to test/malignant/\n",
      "Moving Malignant/ISIC_0033300.jpg to test/malignant/\n",
      "Moving Malignant/ISIC_0014857.jpg to test/malignant/\n",
      "Moving Malignant/ISIC_0014395.jpg to test/malignant/\n",
      "Moving Malignant/ISIC_0024255.jpg to test/malignant/\n",
      "Moving Malignant/ISIC_0025748.jpg to test/malignant/\n",
      "Moving Malignant/ISIC_0012887.jpg to test/malignant/\n",
      "Moving Malignant/ISIC_0010251.jpg to test/malignant/\n",
      "Moving Malignant/ISIC_0033520.jpg to test/malignant/\n",
      "Moving Malignant/ISIC_0011489.jpg to test/malignant/\n",
      "Moving Malignant/ISIC_0011626.jpg to test/malignant/\n",
      "Moving Malignant/ISIC_0012288.jpg to test/malignant/\n",
      "Moving Malignant/ISIC_0033942.jpg to test/malignant/\n",
      "Moving Malignant/ISIC_0010790.jpg to test/malignant/\n",
      "Moving Malignant/ISIC_0024208.jpg to test/malignant/\n",
      "Moving Malignant/ISIC_0000148.jpg to test/malignant/\n",
      "Moving Malignant/ISIC_0028033.jpg to test/malignant/\n",
      "Moving Malignant/ISIC_0033166.jpg to test/malignant/\n",
      "Moving Malignant/ISIC_0033878.jpg to test/malignant/\n",
      "Moving Malignant/ISIC_0011355.jpg to test/malignant/\n",
      "Moving Malignant/ISIC_0033654.jpg to test/malignant/\n",
      "Moving Malignant/ISIC_0013634.jpg to test/malignant/\n",
      "Moving Malignant/ISIC_0033428.jpg to test/malignant/\n",
      "Moving Malignant/ISIC_0033545.jpg to test/malignant/\n",
      "Moving Malignant/ISIC_0000312.jpg to test/malignant/\n"
     ]
    },
    {
     "name": "stdout",
     "output_type": "stream",
     "text": [
      "Finished moving\n"
     ]
    }
   ],
   "source": [
    "copy_file(malignant[1841+230:], 'test/malignant/')"
   ]
  },
  {
   "cell_type": "code",
   "execution_count": null,
   "metadata": {},
   "outputs": [],
   "source": []
  }
 ],
 "metadata": {
  "kernelspec": {
   "display_name": "Python 3",
   "language": "python",
   "name": "python3"
  },
  "language_info": {
   "codemirror_mode": {
    "name": "ipython",
    "version": 3
   },
   "file_extension": ".py",
   "mimetype": "text/x-python",
   "name": "python",
   "nbconvert_exporter": "python",
   "pygments_lexer": "ipython3",
   "version": "3.6.5"
  }
 },
 "nbformat": 4,
 "nbformat_minor": 2
}
